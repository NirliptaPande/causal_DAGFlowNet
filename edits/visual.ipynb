{
 "cells": [
  {
   "cell_type": "code",
   "execution_count": 8,
   "metadata": {},
   "outputs": [],
   "source": [
    "import json\n",
    "arg = open('/home/npande/jax-dag-gflownet/output/arguments.json')"
   ]
  },
  {
   "cell_type": "code",
   "execution_count": 9,
   "metadata": {},
   "outputs": [
    {
     "data": {
      "text/plain": [
       "{'num_envs': 8,\n",
       " 'scorer_kwargs': {},\n",
       " 'prior': 'uniform',\n",
       " 'prior_kwargs': {},\n",
       " 'lr': 1e-05,\n",
       " 'delta': 1.0,\n",
       " 'batch_size': 256,\n",
       " 'num_iterations': 100000,\n",
       " 'replay_capacity': 100000,\n",
       " 'prefill': 1000,\n",
       " 'min_exploration': 0.1,\n",
       " 'update_epsilon_every': 10,\n",
       " 'num_samples_posterior': 1000,\n",
       " 'update_target_every': 1000,\n",
       " 'seed': 0,\n",
       " 'num_workers': 4,\n",
       " 'mp_context': 'spawn',\n",
       " 'output_folder': 'output',\n",
       " 'graph': 'erdos_renyi_lingauss',\n",
       " 'num_variables': 5,\n",
       " 'num_edges': 5,\n",
       " 'num_samples': 100}"
      ]
     },
     "execution_count": 9,
     "metadata": {},
     "output_type": "execute_result"
    }
   ],
   "source": [
    "data = json.load(arg)\n",
    "data"
   ]
  },
  {
   "cell_type": "code",
   "execution_count": 11,
   "metadata": {},
   "outputs": [],
   "source": [
    "arg = open('../output/results.json')"
   ]
  },
  {
   "cell_type": "code",
   "execution_count": 12,
   "metadata": {},
   "outputs": [
    {
     "data": {
      "text/plain": [
       "_io.TextIOWrapper"
      ]
     },
     "execution_count": 12,
     "metadata": {},
     "output_type": "execute_result"
    }
   ],
   "source": [
    "type(arg)"
   ]
  },
  {
   "cell_type": "code",
   "execution_count": 13,
   "metadata": {},
   "outputs": [
    {
     "name": "stdout",
     "output_type": "stream",
     "text": [
      "<_io.TextIOWrapper name='../output/results.json' mode='r' encoding='UTF-8'>\n"
     ]
    }
   ],
   "source": [
    "print(arg)"
   ]
  },
  {
   "cell_type": "code",
   "execution_count": 14,
   "metadata": {},
   "outputs": [
    {
     "data": {
      "text/plain": [
       "{'expected_shd': 6.297,\n",
       " 'expected_edges': 8.875,\n",
       " 'fpr': [0.0,\n",
       "  0.0,\n",
       "  0.10526315789473684,\n",
       "  0.10526315789473684,\n",
       "  0.21052631578947367,\n",
       "  0.21052631578947367,\n",
       "  0.5789473684210527,\n",
       "  0.5789473684210527,\n",
       "  0.7368421052631579,\n",
       "  1.0],\n",
       " 'tpr': [0.0,\n",
       "  0.16666666666666666,\n",
       "  0.16666666666666666,\n",
       "  0.3333333333333333,\n",
       "  0.6666666666666666,\n",
       "  0.8333333333333334,\n",
       "  0.8333333333333334,\n",
       "  1.0,\n",
       "  1.0,\n",
       "  1.0],\n",
       " 'roc_auc': 0.7982456140350878,\n",
       " 'precision': [0.24,\n",
       "  0.3,\n",
       "  0.3157894736842105,\n",
       "  0.3333333333333333,\n",
       "  0.35294117647058826,\n",
       "  0.3125,\n",
       "  0.3333333333333333,\n",
       "  0.35714285714285715,\n",
       "  0.38461538461538464,\n",
       "  0.4166666666666667,\n",
       "  0.45454545454545453,\n",
       "  0.5,\n",
       "  0.5555555555555556,\n",
       "  0.5,\n",
       "  0.5,\n",
       "  0.5,\n",
       "  0.3333333333333333,\n",
       "  0.5,\n",
       "  1.0,\n",
       "  1.0],\n",
       " 'recall': [1.0,\n",
       "  1.0,\n",
       "  1.0,\n",
       "  1.0,\n",
       "  1.0,\n",
       "  0.8333333333333334,\n",
       "  0.8333333333333334,\n",
       "  0.8333333333333334,\n",
       "  0.8333333333333334,\n",
       "  0.8333333333333334,\n",
       "  0.8333333333333334,\n",
       "  0.8333333333333334,\n",
       "  0.8333333333333334,\n",
       "  0.6666666666666666,\n",
       "  0.5,\n",
       "  0.3333333333333333,\n",
       "  0.16666666666666666,\n",
       "  0.16666666666666666,\n",
       "  0.16666666666666666,\n",
       "  0.0],\n",
       " 'prc_auc': 0.5461941721132898,\n",
       " 'ave_prec': 0.568082788671024}"
      ]
     },
     "execution_count": 14,
     "metadata": {},
     "output_type": "execute_result"
    }
   ],
   "source": [
    "out = json.load(arg)\n",
    "out"
   ]
  },
  {
   "cell_type": "code",
   "execution_count": 1,
   "metadata": {},
   "outputs": [
    {
     "data": {
      "text/html": [
       "<div>\n",
       "<style scoped>\n",
       "    .dataframe tbody tr th:only-of-type {\n",
       "        vertical-align: middle;\n",
       "    }\n",
       "\n",
       "    .dataframe tbody tr th {\n",
       "        vertical-align: top;\n",
       "    }\n",
       "\n",
       "    .dataframe thead th {\n",
       "        text-align: right;\n",
       "    }\n",
       "</style>\n",
       "<table border=\"1\" class=\"dataframe\">\n",
       "  <thead>\n",
       "    <tr style=\"text-align: right;\">\n",
       "      <th></th>\n",
       "      <th>Unnamed: 0</th>\n",
       "      <th>A</th>\n",
       "      <th>B</th>\n",
       "      <th>C</th>\n",
       "      <th>D</th>\n",
       "      <th>E</th>\n",
       "    </tr>\n",
       "  </thead>\n",
       "  <tbody>\n",
       "    <tr>\n",
       "      <th>0</th>\n",
       "      <td>0</td>\n",
       "      <td>0.225985</td>\n",
       "      <td>0.149343</td>\n",
       "      <td>0.015548</td>\n",
       "      <td>-0.274168</td>\n",
       "      <td>0.239950</td>\n",
       "    </tr>\n",
       "    <tr>\n",
       "      <th>1</th>\n",
       "      <td>1</td>\n",
       "      <td>0.203122</td>\n",
       "      <td>-0.125907</td>\n",
       "      <td>0.094674</td>\n",
       "      <td>-0.106335</td>\n",
       "      <td>-0.064746</td>\n",
       "    </tr>\n",
       "    <tr>\n",
       "      <th>2</th>\n",
       "      <td>2</td>\n",
       "      <td>0.145770</td>\n",
       "      <td>0.151392</td>\n",
       "      <td>0.052544</td>\n",
       "      <td>-0.027942</td>\n",
       "      <td>0.161065</td>\n",
       "    </tr>\n",
       "    <tr>\n",
       "      <th>3</th>\n",
       "      <td>3</td>\n",
       "      <td>0.010960</td>\n",
       "      <td>0.134588</td>\n",
       "      <td>0.162603</td>\n",
       "      <td>0.100853</td>\n",
       "      <td>0.142636</td>\n",
       "    </tr>\n",
       "    <tr>\n",
       "      <th>4</th>\n",
       "      <td>4</td>\n",
       "      <td>0.210624</td>\n",
       "      <td>0.078131</td>\n",
       "      <td>0.004933</td>\n",
       "      <td>-0.009496</td>\n",
       "      <td>0.099529</td>\n",
       "    </tr>\n",
       "  </tbody>\n",
       "</table>\n",
       "</div>"
      ],
      "text/plain": [
       "   Unnamed: 0         A         B         C         D         E\n",
       "0           0  0.225985  0.149343  0.015548 -0.274168  0.239950\n",
       "1           1  0.203122 -0.125907  0.094674 -0.106335 -0.064746\n",
       "2           2  0.145770  0.151392  0.052544 -0.027942  0.161065\n",
       "3           3  0.010960  0.134588  0.162603  0.100853  0.142636\n",
       "4           4  0.210624  0.078131  0.004933 -0.009496  0.099529"
      ]
     },
     "execution_count": 1,
     "metadata": {},
     "output_type": "execute_result"
    }
   ],
   "source": [
    "import pandas as pd\n",
    "data = pd.read_csv('../output/data.csv')\n",
    "data.head()"
   ]
  },
  {
   "cell_type": "code",
   "execution_count": 2,
   "metadata": {},
   "outputs": [
    {
     "data": {
      "text/plain": [
       "(100, 6)"
      ]
     },
     "execution_count": 2,
     "metadata": {},
     "output_type": "execute_result"
    }
   ],
   "source": [
    "data.shape"
   ]
  },
  {
   "cell_type": "code",
   "execution_count": 19,
   "metadata": {},
   "outputs": [
    {
     "data": {
      "text/plain": [
       "(1000, 5, 5)"
      ]
     },
     "execution_count": 19,
     "metadata": {},
     "output_type": "execute_result"
    }
   ],
   "source": [
    "import numpy as np\n",
    "data = np.load('../output/posterior.npy')\n",
    "data.shape"
   ]
  },
  {
   "cell_type": "code",
   "execution_count": 4,
   "metadata": {},
   "outputs": [
    {
     "name": "stderr",
     "output_type": "stream",
     "text": [
      "/home/npande/miniconda3/envs/jax-dag-gflownet/lib/python3.8/site-packages/tqdm/auto.py:22: TqdmWarning: IProgress not found. Please update jupyter and ipywidgets. See https://ipywidgets.readthedocs.io/en/stable/user_install.html\n",
      "  from .autonotebook import tqdm as notebook_tqdm\n"
     ]
    },
    {
     "data": {
      "text/plain": [
       "pgmpy.models.LinearGaussianBayesianNetwork.LinearGaussianBayesianNetwork"
      ]
     },
     "execution_count": 4,
     "metadata": {},
     "output_type": "execute_result"
    }
   ],
   "source": [
    "import pickle\n",
    "obj = pickle.load(open(\"../output/graph.pkl\",'rb'))\n",
    "type(obj)"
   ]
  },
  {
   "cell_type": "code",
   "execution_count": 7,
   "metadata": {},
   "outputs": [
    {
     "ename": "ModuleNotFoundError",
     "evalue": "No module named 'requests'",
     "output_type": "error",
     "traceback": [
      "\u001b[0;31m---------------------------------------------------------------------------\u001b[0m",
      "\u001b[0;31mModuleNotFoundError\u001b[0m                       Traceback (most recent call last)",
      "Cell \u001b[0;32mIn[7], line 1\u001b[0m\n\u001b[0;32m----> 1\u001b[0m \u001b[39mimport\u001b[39;00m \u001b[39mpylab\u001b[39;00m \u001b[39mas\u001b[39;00m \u001b[39mplt\u001b[39;00m\n",
      "File \u001b[0;32m~/miniconda3/envs/jax-dag-gflownet/lib/python3.8/site-packages/pylab/__init__.py:1\u001b[0m\n\u001b[0;32m----> 1\u001b[0m \u001b[39mimport\u001b[39;00m \u001b[39mrequests\u001b[39;00m\n\u001b[1;32m      2\u001b[0m \u001b[39mfrom\u001b[39;00m \u001b[39murllib3\u001b[39;00m\u001b[39m.\u001b[39;00m\u001b[39mutil\u001b[39;00m\u001b[39m.\u001b[39;00m\u001b[39mretry\u001b[39;00m \u001b[39mimport\u001b[39;00m Retry\n\u001b[1;32m      3\u001b[0m \u001b[39mfrom\u001b[39;00m \u001b[39mrequests\u001b[39;00m\u001b[39m.\u001b[39;00m\u001b[39madapters\u001b[39;00m \u001b[39mimport\u001b[39;00m HTTPAdapter\n",
      "\u001b[0;31mModuleNotFoundError\u001b[0m: No module named 'requests'"
     ]
    }
   ],
   "source": [
    "import pylab as plt"
   ]
  },
  {
   "cell_type": "code",
   "execution_count": 1,
   "metadata": {},
   "outputs": [
    {
     "data": {
      "text/html": [
       "<div>\n",
       "<style scoped>\n",
       "    .dataframe tbody tr th:only-of-type {\n",
       "        vertical-align: middle;\n",
       "    }\n",
       "\n",
       "    .dataframe tbody tr th {\n",
       "        vertical-align: top;\n",
       "    }\n",
       "\n",
       "    .dataframe thead th {\n",
       "        text-align: right;\n",
       "    }\n",
       "</style>\n",
       "<table border=\"1\" class=\"dataframe\">\n",
       "  <thead>\n",
       "    <tr style=\"text-align: right;\">\n",
       "      <th></th>\n",
       "      <th>pftCrop 6</th>\n",
       "      <th>pftShrubBD 8</th>\n",
       "      <th>ign 15</th>\n",
       "      <th>fPAR 17</th>\n",
       "      <th>tmx 30</th>\n",
       "      <th>precip 33</th>\n",
       "    </tr>\n",
       "  </thead>\n",
       "  <tbody>\n",
       "    <tr>\n",
       "      <th>0</th>\n",
       "      <td>0.000370</td>\n",
       "      <td>0.014883</td>\n",
       "      <td>0.0</td>\n",
       "      <td>0.403727</td>\n",
       "      <td>13.0</td>\n",
       "      <td>82.959999</td>\n",
       "    </tr>\n",
       "    <tr>\n",
       "      <th>1</th>\n",
       "      <td>0.000000</td>\n",
       "      <td>0.052926</td>\n",
       "      <td>0.0</td>\n",
       "      <td>0.690684</td>\n",
       "      <td>12.6</td>\n",
       "      <td>70.370003</td>\n",
       "    </tr>\n",
       "    <tr>\n",
       "      <th>2</th>\n",
       "      <td>0.000000</td>\n",
       "      <td>0.000000</td>\n",
       "      <td>0.0</td>\n",
       "      <td>0.673421</td>\n",
       "      <td>13.0</td>\n",
       "      <td>64.400002</td>\n",
       "    </tr>\n",
       "    <tr>\n",
       "      <th>3</th>\n",
       "      <td>0.000000</td>\n",
       "      <td>0.035595</td>\n",
       "      <td>0.0</td>\n",
       "      <td>0.371436</td>\n",
       "      <td>12.2</td>\n",
       "      <td>61.720001</td>\n",
       "    </tr>\n",
       "    <tr>\n",
       "      <th>4</th>\n",
       "      <td>0.000617</td>\n",
       "      <td>0.056320</td>\n",
       "      <td>0.0</td>\n",
       "      <td>0.418094</td>\n",
       "      <td>12.6</td>\n",
       "      <td>60.080002</td>\n",
       "    </tr>\n",
       "  </tbody>\n",
       "</table>\n",
       "</div>"
      ],
      "text/plain": [
       "   pftCrop 6  pftShrubBD 8  ign 15   fPAR 17  tmx 30  precip 33\n",
       "0   0.000370      0.014883     0.0  0.403727    13.0  82.959999\n",
       "1   0.000000      0.052926     0.0  0.690684    12.6  70.370003\n",
       "2   0.000000      0.000000     0.0  0.673421    13.0  64.400002\n",
       "3   0.000000      0.035595     0.0  0.371436    12.2  61.720001\n",
       "4   0.000617      0.056320     0.0  0.418094    12.6  60.080002"
      ]
     },
     "execution_count": 1,
     "metadata": {},
     "output_type": "execute_result"
    }
   ],
   "source": [
    "import pandas as pd\n",
    "df = pd.read_csv('../data/month_df.csv')\n",
    "df.head()"
   ]
  },
  {
   "cell_type": "code",
   "execution_count": 2,
   "metadata": {},
   "outputs": [
    {
     "data": {
      "text/plain": [
       "Index(['pftCrop 6', 'pftShrubBD 8', 'ign 15', 'fPAR 17', 'tmx 30',\n",
       "       'precip 33'],\n",
       "      dtype='object')"
      ]
     },
     "execution_count": 2,
     "metadata": {},
     "output_type": "execute_result"
    }
   ],
   "source": [
    "df.columns"
   ]
  },
  {
   "cell_type": "code",
   "execution_count": 14,
   "metadata": {},
   "outputs": [
    {
     "data": {
      "text/html": [
       "<div>\n",
       "<style scoped>\n",
       "    .dataframe tbody tr th:only-of-type {\n",
       "        vertical-align: middle;\n",
       "    }\n",
       "\n",
       "    .dataframe tbody tr th {\n",
       "        vertical-align: top;\n",
       "    }\n",
       "\n",
       "    .dataframe thead th {\n",
       "        text-align: right;\n",
       "    }\n",
       "</style>\n",
       "<table border=\"1\" class=\"dataframe\">\n",
       "  <thead>\n",
       "    <tr style=\"text-align: right;\">\n",
       "      <th></th>\n",
       "      <th>pftCrop 6</th>\n",
       "      <th>pftShrubBD 8</th>\n",
       "      <th>ign 15</th>\n",
       "      <th>fPAR 17</th>\n",
       "      <th>tmx 30</th>\n",
       "      <th>precip 33</th>\n",
       "    </tr>\n",
       "  </thead>\n",
       "  <tbody>\n",
       "    <tr>\n",
       "      <th>0</th>\n",
       "      <td>0.000370</td>\n",
       "      <td>0.014883</td>\n",
       "      <td>0.0</td>\n",
       "      <td>0.403727</td>\n",
       "      <td>13.0</td>\n",
       "      <td>82.959999</td>\n",
       "    </tr>\n",
       "    <tr>\n",
       "      <th>1</th>\n",
       "      <td>0.000000</td>\n",
       "      <td>0.052926</td>\n",
       "      <td>0.0</td>\n",
       "      <td>0.690684</td>\n",
       "      <td>12.6</td>\n",
       "      <td>70.370003</td>\n",
       "    </tr>\n",
       "    <tr>\n",
       "      <th>2</th>\n",
       "      <td>0.000000</td>\n",
       "      <td>0.000000</td>\n",
       "      <td>0.0</td>\n",
       "      <td>0.673421</td>\n",
       "      <td>13.0</td>\n",
       "      <td>64.400002</td>\n",
       "    </tr>\n",
       "    <tr>\n",
       "      <th>3</th>\n",
       "      <td>0.000000</td>\n",
       "      <td>0.035595</td>\n",
       "      <td>0.0</td>\n",
       "      <td>0.371436</td>\n",
       "      <td>12.2</td>\n",
       "      <td>61.720001</td>\n",
       "    </tr>\n",
       "    <tr>\n",
       "      <th>4</th>\n",
       "      <td>0.000617</td>\n",
       "      <td>0.056320</td>\n",
       "      <td>0.0</td>\n",
       "      <td>0.418094</td>\n",
       "      <td>12.6</td>\n",
       "      <td>60.080002</td>\n",
       "    </tr>\n",
       "  </tbody>\n",
       "</table>\n",
       "</div>"
      ],
      "text/plain": [
       "   pftCrop 6  pftShrubBD 8  ign 15   fPAR 17  tmx 30  precip 33\n",
       "0   0.000370      0.014883     0.0  0.403727    13.0  82.959999\n",
       "1   0.000000      0.052926     0.0  0.690684    12.6  70.370003\n",
       "2   0.000000      0.000000     0.0  0.673421    13.0  64.400002\n",
       "3   0.000000      0.035595     0.0  0.371436    12.2  61.720001\n",
       "4   0.000617      0.056320     0.0  0.418094    12.6  60.080002"
      ]
     },
     "execution_count": 14,
     "metadata": {},
     "output_type": "execute_result"
    }
   ],
   "source": [
    "df = df.drop(df.columns[0], axis=1)\n",
    "df.head()"
   ]
  },
  {
   "cell_type": "code",
   "execution_count": 16,
   "metadata": {},
   "outputs": [],
   "source": [
    "df.to_csv('../data/month_df.csv', index=False)"
   ]
  },
  {
   "cell_type": "code",
   "execution_count": 17,
   "metadata": {},
   "outputs": [
    {
     "data": {
      "text/plain": [
       "(244243, 6)"
      ]
     },
     "execution_count": 17,
     "metadata": {},
     "output_type": "execute_result"
    }
   ],
   "source": [
    "df.shape"
   ]
  },
  {
   "cell_type": "code",
   "execution_count": 18,
   "metadata": {},
   "outputs": [
    {
     "data": {
      "text/plain": [
       "Index(['pftCrop 6', 'pftShrubBD 8', 'ign 15', 'fPAR 17', 'tmx 30',\n",
       "       'precip 33'],\n",
       "      dtype='object')"
      ]
     },
     "execution_count": 18,
     "metadata": {},
     "output_type": "execute_result"
    }
   ],
   "source": [
    "df.columns"
   ]
  },
  {
   "cell_type": "code",
   "execution_count": null,
   "metadata": {},
   "outputs": [],
   "source": [
    "from dag_gflownet.utils.gflownet import posterior_estimate\n",
    "from numpy.random import default_rng\n",
    "import jax\n",
    "from dag_gflownet.gflownet import DAGGFlowNet\n",
    "from dag_gflownet.env import GFlowNetDAGEnv\n",
    "from dag_gflownet.utils.factories import get_scorer\n",
    "\n",
    "args = {\"num_envs\": 8, \"scorer_kwargs\": {}, \"prior\": \"uniform\", \"prior_kwargs\": {}, \"lr\": 1e-05, \"delta\": 1.0, \"batch_size\": 256, \"num_iterations\": 100000, \"replay_capacity\": 100000, \"prefill\": 1000, \"min_exploration\": 0.1, \"update_epsilon_every\": 10, \"num_samples_posterior\": 100, \"update_target_every\": 1000, \"seed\": 0, \"num_workers\": 4, \"mp_context\": \"spawn\", \"output_folder\": \"output\", \"graph\": \"asia\"}\n",
    "\n",
    "rng = default_rng(0)\n",
    "key = jax.random.PRNGKey(0)\n",
    "key, subkey = jax.random.split(key)\n",
    "scorer, data, graph = get_scorer(args, rng=rng)\n",
    "\n",
    "gflownet = DAGGFlowNet(\n",
    "    delta=1,\n",
    "    update_target_every=1000\n",
    ")\n",
    "env = GFlowNetDAGEnv(\n",
    "    num_envs=8,\n",
    "    scorer=scorer,\n",
    "    num_workers=args.num_workers,\n",
    "    context=args.mp_context\n",
    ")\n",
    "\n",
    "posterior, _ = posterior_estimate(\n",
    "    gflownet,\n",
    "    model,\n",
    "    env,\n",
    "    key,\n",
    "    num_samples=1000,\n",
    "    desc='Sampling from posterior'\n",
    ")"
   ]
  },
  {
   "cell_type": "code",
   "execution_count": 6,
   "metadata": {},
   "outputs": [
    {
     "name": "stderr",
     "output_type": "stream",
     "text": [
      "/home/npande/miniconda3/envs/jax-dag-gflownet/lib/python3.8/site-packages/tqdm/auto.py:22: TqdmWarning: IProgress not found. Please update jupyter and ipywidgets. See https://ipywidgets.readthedocs.io/en/stable/user_install.html\n",
      "  from .autonotebook import tqdm as notebook_tqdm\n"
     ]
    },
    {
     "data": {
      "text/plain": [
       "pgmpy.base.DAG.DAG"
      ]
     },
     "execution_count": 6,
     "metadata": {},
     "output_type": "execute_result"
    }
   ],
   "source": [
    "import pickle\n",
    "graph = pickle.load(open(\"../output/graph.pkl\",'rb'))\n",
    "type(graph)"
   ]
  },
  {
   "cell_type": "code",
   "execution_count": 8,
   "metadata": {},
   "outputs": [
    {
     "data": {
      "text/plain": [
       "['__class__',\n",
       " '__contains__',\n",
       " '__delattr__',\n",
       " '__dict__',\n",
       " '__dir__',\n",
       " '__doc__',\n",
       " '__eq__',\n",
       " '__format__',\n",
       " '__ge__',\n",
       " '__getattribute__',\n",
       " '__getitem__',\n",
       " '__gt__',\n",
       " '__hash__',\n",
       " '__init__',\n",
       " '__init_subclass__',\n",
       " '__iter__',\n",
       " '__le__',\n",
       " '__len__',\n",
       " '__lt__',\n",
       " '__module__',\n",
       " '__ne__',\n",
       " '__new__',\n",
       " '__reduce__',\n",
       " '__reduce_ex__',\n",
       " '__repr__',\n",
       " '__setattr__',\n",
       " '__sizeof__',\n",
       " '__str__',\n",
       " '__subclasshook__',\n",
       " '__weakref__',\n",
       " '_adj',\n",
       " '_get_ancestors_of',\n",
       " '_node',\n",
       " '_pred',\n",
       " '_succ',\n",
       " 'active_trail_nodes',\n",
       " 'add_edge',\n",
       " 'add_edges_from',\n",
       " 'add_node',\n",
       " 'add_nodes_from',\n",
       " 'add_weighted_edges_from',\n",
       " 'adj',\n",
       " 'adjacency',\n",
       " 'adjlist_inner_dict_factory',\n",
       " 'adjlist_outer_dict_factory',\n",
       " 'clear',\n",
       " 'clear_edges',\n",
       " 'copy',\n",
       " 'degree',\n",
       " 'do',\n",
       " 'edge_attr_dict_factory',\n",
       " 'edge_subgraph',\n",
       " 'edges',\n",
       " 'get_ancestral_graph',\n",
       " 'get_children',\n",
       " 'get_edge_data',\n",
       " 'get_immoralities',\n",
       " 'get_independencies',\n",
       " 'get_leaves',\n",
       " 'get_markov_blanket',\n",
       " 'get_parents',\n",
       " 'get_random',\n",
       " 'get_roots',\n",
       " 'graph',\n",
       " 'graph_attr_dict_factory',\n",
       " 'has_edge',\n",
       " 'has_node',\n",
       " 'has_predecessor',\n",
       " 'has_successor',\n",
       " 'in_degree',\n",
       " 'in_degree_iter',\n",
       " 'in_edges',\n",
       " 'is_dconnected',\n",
       " 'is_directed',\n",
       " 'is_iequivalent',\n",
       " 'is_multigraph',\n",
       " 'latents',\n",
       " 'local_independencies',\n",
       " 'minimal_dseparator',\n",
       " 'moralize',\n",
       " 'name',\n",
       " 'nbunch_iter',\n",
       " 'neighbors',\n",
       " 'node_attr_dict_factory',\n",
       " 'node_dict_factory',\n",
       " 'nodes',\n",
       " 'number_of_edges',\n",
       " 'number_of_nodes',\n",
       " 'order',\n",
       " 'out_degree',\n",
       " 'out_degree_iter',\n",
       " 'out_edges',\n",
       " 'pred',\n",
       " 'predecessors',\n",
       " 'remove_edge',\n",
       " 'remove_edges_from',\n",
       " 'remove_node',\n",
       " 'remove_nodes_from',\n",
       " 'reverse',\n",
       " 'size',\n",
       " 'subgraph',\n",
       " 'succ',\n",
       " 'successors',\n",
       " 'to_daft',\n",
       " 'to_directed',\n",
       " 'to_directed_class',\n",
       " 'to_pdag',\n",
       " 'to_undirected',\n",
       " 'to_undirected_class',\n",
       " 'update']"
      ]
     },
     "execution_count": 8,
     "metadata": {},
     "output_type": "execute_result"
    }
   ],
   "source": [
    "import networkx as nx\n",
    "dir(graph)"
   ]
  },
  {
   "cell_type": "code",
   "execution_count": 11,
   "metadata": {},
   "outputs": [
    {
     "ename": "AttributeError",
     "evalue": "'dict' object has no attribute 'is_directed'",
     "output_type": "error",
     "traceback": [
      "\u001b[0;31m---------------------------------------------------------------------------\u001b[0m",
      "\u001b[0;31mAttributeError\u001b[0m                            Traceback (most recent call last)",
      "Cell \u001b[0;32mIn[11], line 8\u001b[0m\n\u001b[1;32m      1\u001b[0m options \u001b[39m=\u001b[39m {\n\u001b[1;32m      2\u001b[0m     \u001b[39m'\u001b[39m\u001b[39mnode_color\u001b[39m\u001b[39m'\u001b[39m: \u001b[39m'\u001b[39m\u001b[39mblue\u001b[39m\u001b[39m'\u001b[39m,\n\u001b[1;32m      3\u001b[0m     \u001b[39m'\u001b[39m\u001b[39mnode_size\u001b[39m\u001b[39m'\u001b[39m: \u001b[39m2000\u001b[39m,\n\u001b[0;32m   (...)\u001b[0m\n\u001b[1;32m      6\u001b[0m     \u001b[39m'\u001b[39m\u001b[39marrowsize\u001b[39m\u001b[39m'\u001b[39m: \u001b[39m12\u001b[39m,\n\u001b[1;32m      7\u001b[0m }\n\u001b[0;32m----> 8\u001b[0m nx\u001b[39m.\u001b[39;49mdraw_networkx(graph\u001b[39m.\u001b[39;49mgraph,  \u001b[39m*\u001b[39;49m\u001b[39m*\u001b[39;49moptions)\n",
      "File \u001b[0;32m~/miniconda3/envs/jax-dag-gflownet/lib/python3.8/site-packages/networkx/drawing/nx_pylab.py:304\u001b[0m, in \u001b[0;36mdraw_networkx\u001b[0;34m(G, pos, arrows, with_labels, **kwds)\u001b[0m\n\u001b[1;32m    301\u001b[0m     pos \u001b[39m=\u001b[39m nx\u001b[39m.\u001b[39mdrawing\u001b[39m.\u001b[39mspring_layout(G)  \u001b[39m# default to spring layout\u001b[39;00m\n\u001b[1;32m    303\u001b[0m draw_networkx_nodes(G, pos, \u001b[39m*\u001b[39m\u001b[39m*\u001b[39mnode_kwds)\n\u001b[0;32m--> 304\u001b[0m draw_networkx_edges(G, pos, arrows\u001b[39m=\u001b[39;49marrows, \u001b[39m*\u001b[39;49m\u001b[39m*\u001b[39;49medge_kwds)\n\u001b[1;32m    305\u001b[0m \u001b[39mif\u001b[39;00m with_labels:\n\u001b[1;32m    306\u001b[0m     draw_networkx_labels(G, pos, \u001b[39m*\u001b[39m\u001b[39m*\u001b[39mlabel_kwds)\n",
      "File \u001b[0;32m~/miniconda3/envs/jax-dag-gflownet/lib/python3.8/site-packages/networkx/drawing/nx_pylab.py:656\u001b[0m, in \u001b[0;36mdraw_networkx_edges\u001b[0;34m(G, pos, edgelist, width, edge_color, style, alpha, arrowstyle, arrowsize, edge_cmap, edge_vmin, edge_vmax, ax, arrows, label, node_size, nodelist, node_shape, connectionstyle, min_source_margin, min_target_margin)\u001b[0m\n\u001b[1;32m    650\u001b[0m \u001b[39mimport\u001b[39;00m \u001b[39mnumpy\u001b[39;00m \u001b[39mas\u001b[39;00m \u001b[39mnp\u001b[39;00m\n\u001b[1;32m    652\u001b[0m \u001b[39m# The default behavior is to use LineCollection to draw edges for\u001b[39;00m\n\u001b[1;32m    653\u001b[0m \u001b[39m# undirected graphs (for performance reasons) and use FancyArrowPatches\u001b[39;00m\n\u001b[1;32m    654\u001b[0m \u001b[39m# for directed graphs.\u001b[39;00m\n\u001b[1;32m    655\u001b[0m \u001b[39m# The `arrows` keyword can be used to override the default behavior\u001b[39;00m\n\u001b[0;32m--> 656\u001b[0m use_linecollection \u001b[39m=\u001b[39m \u001b[39mnot\u001b[39;00m G\u001b[39m.\u001b[39;49mis_directed()\n\u001b[1;32m    657\u001b[0m \u001b[39mif\u001b[39;00m arrows \u001b[39min\u001b[39;00m (\u001b[39mTrue\u001b[39;00m, \u001b[39mFalse\u001b[39;00m):\n\u001b[1;32m    658\u001b[0m     use_linecollection \u001b[39m=\u001b[39m \u001b[39mnot\u001b[39;00m arrows\n",
      "\u001b[0;31mAttributeError\u001b[0m: 'dict' object has no attribute 'is_directed'"
     ]
    },
    {
     "data": {
      "image/png": "[encoded data removed]",
      "text/plain": [
       "<Figure size 640x480 with 1 Axes>"
      ]
     },
     "metadata": {},
     "output_type": "display_data"
    }
   ],
   "source": [
    "options = {\n",
    "    'node_color': 'blue',\n",
    "    'node_size': 2000,\n",
    "    'width': 0.8,\n",
    "    'arrowstyle': '-|>',\n",
    "    'arrowsize': 12,\n",
    "}\n",
    "nx.draw_networkx(graph.graph, **options)"
   ]
  },
  {
   "cell_type": "code",
   "execution_count": 12,
   "metadata": {},
   "outputs": [
    {
     "ename": "ModuleNotFoundError",
     "evalue": "No module named 'pydot'",
     "output_type": "error",
     "traceback": [
      "\u001b[0;31m---------------------------------------------------------------------------\u001b[0m",
      "\u001b[0;31mModuleNotFoundError\u001b[0m                       Traceback (most recent call last)",
      "Cell \u001b[0;32mIn[12], line 2\u001b[0m\n\u001b[1;32m      1\u001b[0m \u001b[39m# Convert to a networkx DiGraph\u001b[39;00m\n\u001b[0;32m----> 2\u001b[0m dg \u001b[39m=\u001b[39m nx\u001b[39m.\u001b[39;49mdrawing\u001b[39m.\u001b[39;49mnx_pydot\u001b[39m.\u001b[39;49mto_pydot(graph)\n\u001b[1;32m      4\u001b[0m \u001b[39m# Draw the graph\u001b[39;00m\n\u001b[1;32m      5\u001b[0m nx\u001b[39m.\u001b[39mdraw(dg)\n",
      "File \u001b[0;32m~/miniconda3/envs/jax-dag-gflownet/lib/python3.8/site-packages/networkx/drawing/nx_pydot.py:219\u001b[0m, in \u001b[0;36mto_pydot\u001b[0;34m(N)\u001b[0m\n\u001b[1;32m    202\u001b[0m \u001b[39mdef\u001b[39;00m \u001b[39mto_pydot\u001b[39m(N):\n\u001b[1;32m    203\u001b[0m     \u001b[39m\"\"\"Returns a pydot graph from a NetworkX graph N.\u001b[39;00m\n\u001b[1;32m    204\u001b[0m \n\u001b[1;32m    205\u001b[0m \u001b[39m    Parameters\u001b[39;00m\n\u001b[0;32m   (...)\u001b[0m\n\u001b[1;32m    217\u001b[0m \n\u001b[1;32m    218\u001b[0m \u001b[39m    \"\"\"\u001b[39;00m\n\u001b[0;32m--> 219\u001b[0m     \u001b[39mimport\u001b[39;00m \u001b[39mpydot\u001b[39;00m\n\u001b[1;32m    221\u001b[0m     msg \u001b[39m=\u001b[39m (\n\u001b[1;32m    222\u001b[0m         \u001b[39m\"\u001b[39m\u001b[39mnx.nx_pydot.to_pydot depends on the pydot package, which has\u001b[39m\u001b[39m\"\u001b[39m\n\u001b[1;32m    223\u001b[0m         \u001b[39m\"\u001b[39m\u001b[39mknown issues and is not actively maintained.\u001b[39m\u001b[39m\\n\u001b[39;00m\u001b[39m\\n\u001b[39;00m\u001b[39m\"\u001b[39m\n\u001b[1;32m    224\u001b[0m         \u001b[39m\"\u001b[39m\u001b[39mSee https://github.com/networkx/networkx/issues/5723\u001b[39m\u001b[39m\"\u001b[39m\n\u001b[1;32m    225\u001b[0m     )\n\u001b[1;32m    226\u001b[0m     warnings\u001b[39m.\u001b[39mwarn(msg, \u001b[39mDeprecationWarning\u001b[39;00m, stacklevel\u001b[39m=\u001b[39m\u001b[39m2\u001b[39m)\n",
      "\u001b[0;31mModuleNotFoundError\u001b[0m: No module named 'pydot'"
     ]
    }
   ],
   "source": [
    "# Convert to a networkx DiGraph\n",
    "dg = nx.drawing.nx_pydot.to_pydot(graph)\n",
    "\n",
    "# Draw the graph\n",
    "nx.draw(dg)"
   ]
  },
  {
   "cell_type": "code",
   "execution_count": 13,
   "metadata": {},
   "outputs": [
    {
     "data": {
      "text/plain": [
       "dict"
      ]
     },
     "execution_count": 13,
     "metadata": {},
     "output_type": "execute_result"
    }
   ],
   "source": [
    "type(graph.graph)"
   ]
  },
  {
   "cell_type": "code",
   "execution_count": 14,
   "metadata": {},
   "outputs": [
    {
     "data": {
      "text/plain": [
       "{}"
      ]
     },
     "execution_count": 14,
     "metadata": {},
     "output_type": "execute_result"
    }
   ],
   "source": [
    "graph.graph"
   ]
  },
  {
   "cell_type": "code",
   "execution_count": 15,
   "metadata": {},
   "outputs": [
    {
     "ename": "ModuleNotFoundError",
     "evalue": "No module named 'pydot'",
     "output_type": "error",
     "traceback": [
      "\u001b[0;31m---------------------------------------------------------------------------\u001b[0m",
      "\u001b[0;31mModuleNotFoundError\u001b[0m                       Traceback (most recent call last)",
      "Cell \u001b[0;32mIn[15], line 11\u001b[0m\n\u001b[1;32m      8\u001b[0m g\u001b[39m.\u001b[39madd_edges_from([(\u001b[39m1\u001b[39m, \u001b[39m2\u001b[39m), (\u001b[39m1\u001b[39m, \u001b[39m3\u001b[39m), (\u001b[39m2\u001b[39m, \u001b[39m4\u001b[39m), (\u001b[39m3\u001b[39m, \u001b[39m4\u001b[39m)])\n\u001b[1;32m     10\u001b[0m \u001b[39m# Convert to a networkx DiGraph\u001b[39;00m\n\u001b[0;32m---> 11\u001b[0m dg \u001b[39m=\u001b[39m nx\u001b[39m.\u001b[39;49mdrawing\u001b[39m.\u001b[39;49mnx_pydot\u001b[39m.\u001b[39;49mto_pydot(g)\n\u001b[1;32m     13\u001b[0m \u001b[39m# Draw the graph\u001b[39;00m\n\u001b[1;32m     14\u001b[0m nx\u001b[39m.\u001b[39mdraw(dg)\n",
      "File \u001b[0;32m~/miniconda3/envs/jax-dag-gflownet/lib/python3.8/site-packages/networkx/drawing/nx_pydot.py:219\u001b[0m, in \u001b[0;36mto_pydot\u001b[0;34m(N)\u001b[0m\n\u001b[1;32m    202\u001b[0m \u001b[39mdef\u001b[39;00m \u001b[39mto_pydot\u001b[39m(N):\n\u001b[1;32m    203\u001b[0m     \u001b[39m\"\"\"Returns a pydot graph from a NetworkX graph N.\u001b[39;00m\n\u001b[1;32m    204\u001b[0m \n\u001b[1;32m    205\u001b[0m \u001b[39m    Parameters\u001b[39;00m\n\u001b[0;32m   (...)\u001b[0m\n\u001b[1;32m    217\u001b[0m \n\u001b[1;32m    218\u001b[0m \u001b[39m    \"\"\"\u001b[39;00m\n\u001b[0;32m--> 219\u001b[0m     \u001b[39mimport\u001b[39;00m \u001b[39mpydot\u001b[39;00m\n\u001b[1;32m    221\u001b[0m     msg \u001b[39m=\u001b[39m (\n\u001b[1;32m    222\u001b[0m         \u001b[39m\"\u001b[39m\u001b[39mnx.nx_pydot.to_pydot depends on the pydot package, which has\u001b[39m\u001b[39m\"\u001b[39m\n\u001b[1;32m    223\u001b[0m         \u001b[39m\"\u001b[39m\u001b[39mknown issues and is not actively maintained.\u001b[39m\u001b[39m\\n\u001b[39;00m\u001b[39m\\n\u001b[39;00m\u001b[39m\"\u001b[39m\n\u001b[1;32m    224\u001b[0m         \u001b[39m\"\u001b[39m\u001b[39mSee https://github.com/networkx/networkx/issues/5723\u001b[39m\u001b[39m\"\u001b[39m\n\u001b[1;32m    225\u001b[0m     )\n\u001b[1;32m    226\u001b[0m     warnings\u001b[39m.\u001b[39mwarn(msg, \u001b[39mDeprecationWarning\u001b[39;00m, stacklevel\u001b[39m=\u001b[39m\u001b[39m2\u001b[39m)\n",
      "\u001b[0;31mModuleNotFoundError\u001b[0m: No module named 'pydot'"
     ]
    }
   ],
   "source": [
    "import networkx as nx\n",
    "from pgmpy.base import DAG\n",
    "\n",
    "# Create the DAG\n",
    "g = DAG()\n",
    "\n",
    "# Add nodes and edges\n",
    "g.add_edges_from([(1, 2), (1, 3), (2, 4), (3, 4)])\n",
    "\n",
    "# Convert to a networkx DiGraph\n",
    "dg = nx.drawing.nx_pydot.to_pydot(g)\n",
    "\n",
    "# Draw the graph\n",
    "nx.draw(dg)"
   ]
  },
  {
   "cell_type": "code",
   "execution_count": 16,
   "metadata": {},
   "outputs": [
    {
     "ename": "AttributeError",
     "evalue": "'DAG' object has no attribute 'to_networkx'",
     "output_type": "error",
     "traceback": [
      "\u001b[0;31m---------------------------------------------------------------------------\u001b[0m",
      "\u001b[0;31mAttributeError\u001b[0m                            Traceback (most recent call last)",
      "Cell \u001b[0;32mIn[16], line 1\u001b[0m\n\u001b[0;32m----> 1\u001b[0m graph_new \u001b[39m=\u001b[39m graph\u001b[39m.\u001b[39;49mto_networkx()\n\u001b[1;32m      2\u001b[0m \u001b[39mtype\u001b[39m(graph_new)\n",
      "\u001b[0;31mAttributeError\u001b[0m: 'DAG' object has no attribute 'to_networkx'"
     ]
    }
   ],
   "source": [
    "graph_new = graph.to_networkx()\n",
    "type(graph_new)"
   ]
  },
  {
   "cell_type": "code",
   "execution_count": 39,
   "metadata": {},
   "outputs": [
    {
     "data": {
      "text/plain": [
       "(100, 6, 6)"
      ]
     },
     "execution_count": 39,
     "metadata": {},
     "output_type": "execute_result"
    }
   ],
   "source": [
    "import networkx as nx\n",
    "import numpy as np\n",
    "posterior = np.load('../output/posterior.npy')\n",
    "posterior.shape"
   ]
  },
  {
   "cell_type": "code",
   "execution_count": 40,
   "metadata": {},
   "outputs": [
    {
     "data": {
      "text/plain": [
       "array([[0, 0, 0, 0, 1, 0],\n",
       "       [1, 0, 0, 1, 0, 0],\n",
       "       [1, 1, 0, 1, 1, 0],\n",
       "       [1, 0, 0, 0, 1, 0],\n",
       "       [0, 0, 0, 0, 0, 0],\n",
       "       [1, 1, 1, 1, 0, 0]])"
      ]
     },
     "execution_count": 40,
     "metadata": {},
     "output_type": "execute_result"
    }
   ],
   "source": [
    "posterior[0]"
   ]
  },
  {
   "cell_type": "code",
   "execution_count": 22,
   "metadata": {},
   "outputs": [
    {
     "data": {
      "text/plain": [
       "(6, 6)"
      ]
     },
     "execution_count": 22,
     "metadata": {},
     "output_type": "execute_result"
    }
   ],
   "source": [
    "avg = np.sum(posterior, axis = 0)/100\n",
    "avg.shape"
   ]
  },
  {
   "cell_type": "code",
   "execution_count": 23,
   "metadata": {},
   "outputs": [
    {
     "data": {
      "text/plain": [
       "array([[0., 0., 0., 0., 1., 0.],\n",
       "       [1., 0., 0., 1., 0., 0.],\n",
       "       [1., 1., 0., 1., 1., 0.],\n",
       "       [1., 0., 0., 0., 1., 0.],\n",
       "       [0., 0., 0., 0., 0., 0.],\n",
       "       [1., 1., 1., 1., 0., 0.]])"
      ]
     },
     "execution_count": 23,
     "metadata": {},
     "output_type": "execute_result"
    }
   ],
   "source": [
    "avg"
   ]
  },
  {
   "cell_type": "code",
   "execution_count": 32,
   "metadata": {},
   "outputs": [
    {
     "data": {
      "image/png": "[encoded data removed]",
      "text/plain": [
       "<Figure size 640x480 with 1 Axes>"
      ]
     },
     "metadata": {},
     "output_type": "display_data"
    }
   ],
   "source": [
    "graph = nx.from_numpy_array(avg)\n",
    "\n",
    "mapping = {\n",
    "    0: 'pftCrop',\n",
    "    1: 'pftShrubBD',\n",
    "    2: 'ign',\n",
    "    3: 'faPAR',\n",
    "    4: 'tmx',\n",
    "    5: 'precip'\n",
    "}\n",
    "\n",
    "graph = nx.relabel_nodes(graph, mapping)\n",
    "\n",
    "options = {\n",
    "    'node_size': 2000,\n",
    "    'width': 0.8,\n",
    "    'arrowstyle': '-|>',\n",
    "    'arrowsize': 12,\n",
    "    'font_color':'white',\n",
    "    'font_size': 8\n",
    "}\n",
    "\n",
    "nx.draw_networkx(graph, arrows=True, **options)"
   ]
  },
  {
   "cell_type": "code",
   "execution_count": 33,
   "metadata": {},
   "outputs": [
    {
     "ename": "AttributeError",
     "evalue": "'DAG' object has no attribute 'plot'",
     "output_type": "error",
     "traceback": [
      "\u001b[0;31m---------------------------------------------------------------------------\u001b[0m",
      "\u001b[0;31mAttributeError\u001b[0m                            Traceback (most recent call last)",
      "Cell \u001b[0;32mIn[33], line 3\u001b[0m\n\u001b[1;32m      1\u001b[0m \u001b[39mimport\u001b[39;00m \u001b[39mpickle\u001b[39;00m\n\u001b[1;32m      2\u001b[0m graph \u001b[39m=\u001b[39m pickle\u001b[39m.\u001b[39mload(\u001b[39mopen\u001b[39m(\u001b[39m\"\u001b[39m\u001b[39m../output/graph.pkl\u001b[39m\u001b[39m\"\u001b[39m,\u001b[39m'\u001b[39m\u001b[39mrb\u001b[39m\u001b[39m'\u001b[39m))\n\u001b[0;32m----> 3\u001b[0m graph\u001b[39m.\u001b[39;49mplot()\n",
      "\u001b[0;31mAttributeError\u001b[0m: 'DAG' object has no attribute 'plot'"
     ]
    }
   ],
   "source": [
    "\n",
    "import pickle\n",
    "graph = pickle.load(open(\"../output/graph.pkl\",'rb'))\n",
    "graph.plot()"
   ]
  },
  {
   "cell_type": "code",
   "execution_count": 35,
   "metadata": {},
   "outputs": [
    {
     "data": {
      "image/png": "[encoded data removed]",
      "text/plain": [
       "<Figure size 640x480 with 1 Axes>"
      ]
     },
     "metadata": {},
     "output_type": "display_data"
    }
   ],
   "source": [
    "\n",
    "import matplotlib.pyplot as plt\n",
    "nx_dag = nx.DiGraph(graph.edges())\n",
    "nx.draw(nx_dag, with_labels=True)\n",
    "plt.show()"
   ]
  },
  {
   "cell_type": "code",
   "execution_count": 6,
   "metadata": {},
   "outputs": [
    {
     "data": {
      "image/png": "[encoded data removed]",
      "text/plain": [
       "<Figure size 640x480 with 1 Axes>"
      ]
     },
     "metadata": {},
     "output_type": "display_data"
    }
   ],
   "source": [
    "from pgmpy.base import DAG\n",
    "graph = DAG()\n",
    "graph.add_nodes_from(nodes = ['pftCrop', 'pftShrub', 'ign', 'fPAR', 'tmx',\n",
    "    'precip 33'])\n",
    "graph.add_edges_from(ebunch = [\n",
    "        ('pftCrop','ign'),\n",
    "        ('pftShrub','ign'),\n",
    "        ('fPAR','ign'),\n",
    "        ('tmx','ign')])\n",
    "import matplotlib.pyplot as plt\n",
    "import networkx as nx\n",
    "nx_dag = nx.DiGraph(graph.edges())\n",
    "options = {\n",
    "    'node_size': 2000,\n",
    "    'width': 0.8,\n",
    "    'arrowstyle': '-|>',\n",
    "    'arrowsize': 18,\n",
    "    'font_color':'white',\n",
    "    'font_size': 9\n",
    "}\n",
    "nx.draw(nx_dag, with_labels=True,**options)\n",
    "plt.show()"
   ]
  },
  {
   "cell_type": "code",
   "execution_count": 26,
   "metadata": {},
   "outputs": [
    {
     "data": {
      "text/html": [
       "<div>\n",
       "<style scoped>\n",
       "    .dataframe tbody tr th:only-of-type {\n",
       "        vertical-align: middle;\n",
       "    }\n",
       "\n",
       "    .dataframe tbody tr th {\n",
       "        vertical-align: top;\n",
       "    }\n",
       "\n",
       "    .dataframe thead th {\n",
       "        text-align: right;\n",
       "    }\n",
       "</style>\n",
       "<table border=\"1\" class=\"dataframe\">\n",
       "  <thead>\n",
       "    <tr style=\"text-align: right;\">\n",
       "      <th></th>\n",
       "      <th>pftCrop 6</th>\n",
       "      <th>pftShrubBD 8</th>\n",
       "      <th>ign 15</th>\n",
       "      <th>fPAR 17</th>\n",
       "      <th>tmx 30</th>\n",
       "      <th>precip 33</th>\n",
       "    </tr>\n",
       "  </thead>\n",
       "  <tbody>\n",
       "    <tr>\n",
       "      <th>0</th>\n",
       "      <td>0.00037</td>\n",
       "      <td>0.014883</td>\n",
       "      <td>0.0</td>\n",
       "      <td>0.403727</td>\n",
       "      <td>13.000000</td>\n",
       "      <td>82.959999</td>\n",
       "    </tr>\n",
       "    <tr>\n",
       "      <th>1</th>\n",
       "      <td>0.00037</td>\n",
       "      <td>0.014883</td>\n",
       "      <td>0.0</td>\n",
       "      <td>0.606667</td>\n",
       "      <td>9.900001</td>\n",
       "      <td>45.029999</td>\n",
       "    </tr>\n",
       "    <tr>\n",
       "      <th>2</th>\n",
       "      <td>0.00037</td>\n",
       "      <td>0.014883</td>\n",
       "      <td>0.0</td>\n",
       "      <td>0.760000</td>\n",
       "      <td>11.000000</td>\n",
       "      <td>69.099998</td>\n",
       "    </tr>\n",
       "    <tr>\n",
       "      <th>3</th>\n",
       "      <td>0.00037</td>\n",
       "      <td>0.014883</td>\n",
       "      <td>0.0</td>\n",
       "      <td>0.000000</td>\n",
       "      <td>7.600000</td>\n",
       "      <td>97.120003</td>\n",
       "    </tr>\n",
       "    <tr>\n",
       "      <th>4</th>\n",
       "      <td>0.00037</td>\n",
       "      <td>0.014883</td>\n",
       "      <td>0.0</td>\n",
       "      <td>0.000000</td>\n",
       "      <td>6.500000</td>\n",
       "      <td>66.790001</td>\n",
       "    </tr>\n",
       "  </tbody>\n",
       "</table>\n",
       "</div>"
      ],
      "text/plain": [
       "   pftCrop 6  pftShrubBD 8  ign 15   fPAR 17     tmx 30  precip 33\n",
       "0    0.00037      0.014883     0.0  0.403727  13.000000  82.959999\n",
       "1    0.00037      0.014883     0.0  0.606667   9.900001  45.029999\n",
       "2    0.00037      0.014883     0.0  0.760000  11.000000  69.099998\n",
       "3    0.00037      0.014883     0.0  0.000000   7.600000  97.120003\n",
       "4    0.00037      0.014883     0.0  0.000000   6.500000  66.790001"
      ]
     },
     "execution_count": 26,
     "metadata": {},
     "output_type": "execute_result"
    }
   ],
   "source": [
    "import pandas as pd\n",
    "df = pd.read_csv('../data/annual_df.csv')\n",
    "df.head()"
   ]
  },
  {
   "cell_type": "code",
   "execution_count": 27,
   "metadata": {},
   "outputs": [
    {
     "data": {
      "text/plain": [
       "244243"
      ]
     },
     "execution_count": 27,
     "metadata": {},
     "output_type": "execute_result"
    }
   ],
   "source": [
    "june = pd.read_csv('../data/june.csv')\n",
    "june.shape[0]"
   ]
  },
  {
   "cell_type": "code",
   "execution_count": 28,
   "metadata": {},
   "outputs": [],
   "source": [
    "season = df.iloc[june.shape[0]*4:june.shape[0]*8]\n",
    "season.to_csv('../data/season.csv')"
   ]
  },
  {
   "cell_type": "code",
   "execution_count": null,
   "metadata": {},
   "outputs": [],
   "source": []
  }
 ],
 "metadata": {
  "kernelspec": {
   "display_name": "Python 3.8.15 ('jax-dag-gflownet')",
   "language": "python",
   "name": "python3"
  },
  "language_info": {
   "codemirror_mode": {
    "name": "ipython",
    "version": 3
   },
   "file_extension": ".py",
   "mimetype": "text/x-python",
   "name": "python",
   "nbconvert_exporter": "python",
   "pygments_lexer": "ipython3",
   "version": "3.8.15"
  },
  "orig_nbformat": 4,
  "vscode": {
   "interpreter": {
    "hash": "3fa22e122491b98898e645c6b0c4de7e43310c3980a4b641ba123c2567c70ed7"
   }
  }
 },
 "nbformat": 4,
 "nbformat_minor": 2
}
